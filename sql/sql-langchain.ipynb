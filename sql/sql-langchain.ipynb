{
 "cells": [
  {
   "cell_type": "code",
   "execution_count": 3,
   "id": "fdd7008f",
   "metadata": {},
   "outputs": [],
   "source": [
    "openai_api_key='<<insert-key-here>>'"
   ]
  },
  {
   "cell_type": "code",
   "execution_count": 4,
   "id": "06e5ef6b",
   "metadata": {},
   "outputs": [
    {
     "data": {
      "text/plain": [
       "'\\nSELECT sales_people.sales_person_name, customers.customer_location, COUNT(orders.order_id) AS total_orders\\nFROM orders\\nINNER JOIN customers ON orders.customer_id = customers.customer_id\\nINNER JOIN sales_people ON orders.sales_person_id = sales_people.sales_person_id\\nGROUP BY sales_people.sales_person_name, customers.customer_location\\nORDER BY total_orders DESC;'"
      ]
     },
     "execution_count": 4,
     "metadata": {},
     "output_type": "execute_result"
    }
   ],
   "source": [
    "from langchain.llms import OpenAI\n",
    "\n",
    "llm = OpenAI(model_name=\"text-davinci-003\",temperature=0,top_p=1.0,presence_penalty=0.0,frequency_penalty=0.0, openai_api_key=openai_api_key)\n",
    "\n",
    "prompt = \"\"\"\n",
    "Given the following table\n",
    "\n",
    "CREATE DATABASE sales;\n",
    "\n",
    "USE sales;\n",
    "\n",
    "CREATE TABLE products (\n",
    "  product_id INT AUTO_INCREMENT PRIMARY KEY,\n",
    "  product_name VARCHAR(255) NOT NULL,\n",
    "  product_description VARCHAR(255) NOT NULL,\n",
    "  product_price DECIMAL(10,2) NOT NULL\n",
    ");\n",
    "\n",
    "CREATE TABLE orders (\n",
    "  order_id INT AUTO_INCREMENT PRIMARY KEY,\n",
    "  order_date DATE NOT NULL,\n",
    "  order_total DECIMAL(10,2) NOT NULL,\n",
    "  customer_id INT NOT NULL,\n",
    "  sales_person_id INT NOT NULL,\n",
    "  customer_location VARCHAR(255) NOT NULL,\n",
    "  FOREIGN KEY (customer_id) REFERENCES customers (customer_id),\n",
    "  FOREIGN KEY (sales_person_id) REFERENCES sales_people (sales_person_id)\n",
    ");\n",
    "\n",
    "CREATE TABLE customers (\n",
    "  customer_id INT AUTO_INCREMENT PRIMARY KEY,\n",
    "  customer_name VARCHAR(255) NOT NULL,\n",
    "  customer_email VARCHAR(255) NOT NULL,\n",
    "  customer_phone VARCHAR(255) NOT NULL,\n",
    "  customer_location VARCHAR(255) NOT NULL\n",
    ");\n",
    "\n",
    "CREATE TABLE sales_people (\n",
    "  sales_person_id INT AUTO_INCREMENT PRIMARY KEY,\n",
    "  sales_person_name VARCHAR(255) NOT NULL,\n",
    "  sales_person_email VARCHAR(255) NOT NULL,\n",
    "  sales_person_phone VARCHAR(255) NOT NULL\n",
    "); \n",
    "\n",
    "Give me a sql statement that returns the top sales person by location\n",
    "\"\"\"\n",
    "\n",
    "llm(prompt)"
   ]
  },
  {
   "cell_type": "code",
   "execution_count": null,
   "id": "71396c2d",
   "metadata": {},
   "outputs": [],
   "source": []
  }
 ],
 "metadata": {
  "kernelspec": {
   "display_name": "Python 3 (ipykernel)",
   "language": "python",
   "name": "python3"
  },
  "language_info": {
   "codemirror_mode": {
    "name": "ipython",
    "version": 3
   },
   "file_extension": ".py",
   "mimetype": "text/x-python",
   "name": "python",
   "nbconvert_exporter": "python",
   "pygments_lexer": "ipython3",
   "version": "3.11.3"
  }
 },
 "nbformat": 4,
 "nbformat_minor": 5
}
